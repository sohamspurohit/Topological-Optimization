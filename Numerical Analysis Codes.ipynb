{
 "cells": [
  {
   "cell_type": "markdown",
   "metadata": {},
   "source": [
    "# iSURP: Topological Optimization "
   ]
  },
  {
   "cell_type": "markdown",
   "metadata": {},
   "source": [
    "Problem: To write an iterative Python program to determine square root of 2 based on iterative calculations using a series"
   ]
  },
  {
   "cell_type": "code",
   "execution_count": 1,
   "metadata": {},
   "outputs": [],
   "source": [
    "import numpy as np\n",
    "import matplotlib.pyplot as plt\n",
    "import scipy.integrate as integral\n",
    "import sympy as sym"
   ]
  },
  {
   "cell_type": "markdown",
   "metadata": {},
   "source": [
    "## Newton Raphson- Square root of 2"
   ]
  },
  {
   "cell_type": "code",
   "execution_count": null,
   "metadata": {},
   "outputs": [],
   "source": [
    "def sqroot(seed,ite):   #seed represents starting value of our iterative function, and ite is the term to which we want to iterate\n",
    "    seed=0.5*(seed+2/seed) #this is the Newton-Raphson iterative series that gives us the value of square root of 2\n",
    "    if ite>0:\n",
    "        return sqroot(seed,ite-1)\n",
    "    else:                #used a recursive function in order to get the answer\n",
    "        return seed"
   ]
  },
  {
   "cell_type": "code",
   "execution_count": null,
   "metadata": {},
   "outputs": [],
   "source": [
    "ans=sqroot(1.0,100)   #increasing iter will give more accurate answers \n",
    "print(ans)"
   ]
  },
  {
   "cell_type": "markdown",
   "metadata": {},
   "source": [
    "## 1-D Finite Differences Method"
   ]
  },
  {
   "cell_type": "code",
   "execution_count": null,
   "metadata": {},
   "outputs": [],
   "source": [
    "A=np.zeros([1000,1000])\n",
    "for i in range(0,1000):                  #We first find the coefficient matrix (found using calculations), applies to u''+g=0\n",
    "    for j in range(0,1000):             \n",
    "        if i==j:      \n",
    "            A[i][j]=2\n",
    "        elif i==(j+1):\n",
    "            A[i][j]=-1\n",
    "        elif j==(i+1):\n",
    "            A[i][j]=-1                   #Inverted it.\n",
    "Ainv=np.linalg.inv(A)/(1000000)"
   ]
  },
  {
   "cell_type": "code",
   "execution_count": null,
   "metadata": {},
   "outputs": [],
   "source": [
    "G=np.sin(np.linspace(0,2*np.pi,1000))\n",
    "U=np.dot(Ainv,G)"
   ]
  },
  {
   "cell_type": "code",
   "execution_count": null,
   "metadata": {
    "scrolled": false
   },
   "outputs": [],
   "source": [
    "plt.scatter(np.linspace(0,2*np.pi,1000),U,s=0.5,c='black')\n",
    "plt.grid()"
   ]
  },
  {
   "cell_type": "markdown",
   "metadata": {},
   "source": [
    "## 2-D Finite Differences Method"
   ]
  },
  {
   "cell_type": "markdown",
   "metadata": {},
   "source": [
    "Code to implement 2-D Finite Differences Method (Refer to notes for construction of matrix)\n",
    "The expression we wish to solve is: $a\\frac{\\delta^2f}{\\delta y^2}+b\\frac{\\delta^2f}{\\delta x^2}+c\\frac{\\delta^2f}{\\delta y\\delta x}+g(x)=0$\n",
    "Further, for simplicity, we assume that each of $f_i,_j=0$ if i or j=0. However, there is no need to do this, and it \n",
    "can be accounted for as boundary conditions in the array matrix of g(x,y). \n",
    "Let n be the number of divisions of the x axis, while m is the number of divisions of m. Both are supposed to be large,\n",
    "and we assume them to be equal since we just need a good enough approximation."
   ]
  },
  {
   "cell_type": "code",
   "execution_count": null,
   "metadata": {},
   "outputs": [],
   "source": [
    "print(\"Enter the values of the coefficients:\")\n",
    "a=float(input()) #We allow the user to choose the coefficients, which are real numbers\n",
    "b=float(input())\n",
    "c=float(input())\n",
    "n=100\n",
    "ctr=0\n",
    "M=np.zeros((n**2,n**2))\n",
    "for j in range(0,n):\n",
    "    for i in range(0,n):\n",
    "        M[ctr][(j)*n+i]=2*a+2*b-c\n",
    "        if (i+1)<n:\n",
    "            M[ctr][(j)*n+i+1]=c-b\n",
    "        if (j+1)<n:\n",
    "            M[ctr][(j+1)*n+i]=c-a\n",
    "        if (j+1)<n and (i+1)<n:\n",
    "             M[ctr][(j+1)*n+i+1]=-c\n",
    "        if i>0:\n",
    "             M[ctr][(j)*n+i-1]=-b\n",
    "        if j>0:\n",
    "             M[ctr][(j-1)*n+i]=-a\n",
    "        ctr=ctr+1\n",
    "Minv=np.linalg.inv(M)\n",
    "#Here, we would have to make a function/ algorithm for the 2x2 matrix of g(x,y)  \n",
    "for i in np.linspace(0,100,n):\n",
    "    for j in np.linspace(0,100,n):         #just a skeleton\n",
    "        ax[i*n+j]=f(i,j)"
   ]
  },
  {
   "cell_type": "markdown",
   "metadata": {},
   "source": [
    "## Gradient Descent"
   ]
  },
  {
   "cell_type": "code",
   "execution_count": null,
   "metadata": {},
   "outputs": [],
   "source": [
    "##def func(z):                                 #just a skeleton function, returns the function whose optimum you wish to calculate\n",
    "    ##return f(z)"
   ]
  },
  {
   "cell_type": "code",
   "execution_count": null,
   "metadata": {},
   "outputs": [],
   "source": [
    "##def der(a):                                  #function to return approximate value of the derivative\n",
    "    ##return (func(a+0.001)-np.func(a))/0.001"
   ]
  },
  {
   "cell_type": "code",
   "execution_count": null,
   "metadata": {},
   "outputs": [],
   "source": [
    "##lim=0.3\n",
    "##while 1:\n",
    "    ##if der(lim)>0.001:          #iterative function with error value considered, stops when derivative reaches epsilon\n",
    "        ##break\n",
    "    ##lim=lim-0.002*der(lim)\n",
    "##print(func(lim))"
   ]
  },
  {
   "cell_type": "markdown",
   "metadata": {},
   "source": [
    "## Forward and Backward Euler"
   ]
  },
  {
   "cell_type": "code",
   "execution_count": null,
   "metadata": {
    "scrolled": true
   },
   "outputs": [],
   "source": [
    "end_point=10\n",
    "points=5001\n",
    "r=2\n",
    "t=np.linspace(0,end_point,points)\n",
    "dt=t[1]-t[0]\n",
    "N=np.zeros(points)\n",
    "K=np.zeros(points)\n",
    "N[0]=1\n",
    "K[0]=1\n",
    "for n in range (points-1):\n",
    "    N[n+1]=N[n]+r*dt*N[n]\n",
    "for k in range(points-1):\n",
    "    K[k+1]=K[k]/(1-r*dt)\n",
    "    \n",
    "plt.plot(t,N,'g')\n",
    "plt.plot(t, np.exp(r*t), 'r')\n",
    "plt.plot(t,K,'b')\n",
    "plt.legend(['Forward Euler','Exact','Backward Euler'])\n",
    "plt.xlabel('t'); plt.ylabel('x(t)')"
   ]
  },
  {
   "cell_type": "markdown",
   "metadata": {},
   "source": [
    "# 1D Finite Elements Method"
   ]
  },
  {
   "cell_type": "markdown",
   "metadata": {},
   "source": [
    "Here I have implemented the 1D Finite Element Method for approximating the value of the function. Here again,\n",
    "$\\frac{\\delta^2u}{\\delta x^2}+f(x)=0$ is solved, for x in [0,1] and $u(0)=u_0,u(1)=u_1$"
   ]
  },
  {
   "cell_type": "code",
   "execution_count": 2,
   "metadata": {},
   "outputs": [
    {
     "name": "stdout",
     "output_type": "stream",
     "text": [
      "[[ 2. -1.  0. ...  0.  0.  0.]\n",
      " [-1.  2. -1. ...  0.  0.  0.]\n",
      " [ 0. -1.  2. ...  0.  0.  0.]\n",
      " ...\n",
      " [ 0.  0.  0. ...  2. -1.  0.]\n",
      " [ 0.  0.  0. ... -1.  2. -1.]\n",
      " [ 0.  0.  0. ...  0. -1.  2.]]\n"
     ]
    }
   ],
   "source": [
    "#Construction of the stiffness matrix\n",
    "K=np.zeros([1000,1000])\n",
    "for i in range(0,1000):\n",
    "    for j in range(0,1000):\n",
    "        if abs(i-j)>1:\n",
    "            K[i][j]=0\n",
    "        elif abs(i-j)==1:\n",
    "            K[i][j]=-1\n",
    "        elif i==j:\n",
    "            K[i][j]=2\n",
    "print(K)\n",
    "            "
   ]
  },
  {
   "cell_type": "code",
   "execution_count": null,
   "metadata": {},
   "outputs": [],
   "source": [
    "values=np.linspace(0,1,1000)  #skeleton code, fn needs to be written that returns values of f(x) at x\n",
    "h=1/1000\n",
    "F=np.zeros(1000)\n",
    "for i in range(0,1000):\n",
    "    F[i]=(2/3)*(fn(values[i]-0.5*h)+fn(values[i])+fn(values[i]+0.5*h))   #Simpson's 1/3 rule used here, check notes"
   ]
  },
  {
   "cell_type": "code",
   "execution_count": null,
   "metadata": {},
   "outputs": [],
   "source": [
    "U=np.dot(np.linalg.inv(K),F)"
   ]
  }
 ],
 "metadata": {
  "kernelspec": {
   "display_name": "Python 3",
   "language": "python",
   "name": "python3"
  },
  "language_info": {
   "codemirror_mode": {
    "name": "ipython",
    "version": 3
   },
   "file_extension": ".py",
   "mimetype": "text/x-python",
   "name": "python",
   "nbconvert_exporter": "python",
   "pygments_lexer": "ipython3",
   "version": "3.7.3"
  }
 },
 "nbformat": 4,
 "nbformat_minor": 2
}
